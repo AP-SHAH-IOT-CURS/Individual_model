{
  "nbformat": 4,
  "nbformat_minor": 0,
  "metadata": {
    "colab": {
      "name": "cnncode_corn.ipynb",
      "version": "0.3.2",
      "provenance": [],
      "collapsed_sections": []
    },
    "kernelspec": {
      "name": "python3",
      "display_name": "Python 3"
    }
  },
  "cells": [
    {
      "metadata": {
        "id": "TI1grjHRWUr5",
        "colab_type": "code",
        "outputId": "e9af4752-6eea-4d3e-f948-ec0c558e2eaa",
        "colab": {
          "base_uri": "https://localhost:8080/",
          "height": 34
        }
      },
      "cell_type": "code",
      "source": [
        "from google.colab import drive\n",
        "drive.mount('/content/drive/')"
      ],
      "execution_count": 37,
      "outputs": [
        {
          "output_type": "stream",
          "text": [
            "Drive already mounted at /content/drive/; to attempt to forcibly remount, call drive.mount(\"/content/drive/\", force_remount=True).\n"
          ],
          "name": "stdout"
        }
      ]
    },
    {
      "metadata": {
        "id": "8AnXv-cVWYMB",
        "colab_type": "code",
        "colab": {}
      },
      "cell_type": "code",
      "source": [
        "import os\n",
        "os.chdir(\"drive/My Drive/chinmay\")"
      ],
      "execution_count": 0,
      "outputs": []
    },
    {
      "metadata": {
        "id": "Ir3NWmoHWYWJ",
        "colab_type": "code",
        "colab": {}
      },
      "cell_type": "code",
      "source": [
        "from keras.models import Sequential\n",
        "from keras.layers import Convolution2D\n",
        "from keras.layers import MaxPooling2D\n",
        "from keras.layers import Flatten\n",
        "from keras.layers import Dense\n",
        "from keras import optimizers\n",
        "from keras.layers import Dropout,Activation, BatchNormalization, regularizers"
      ],
      "execution_count": 0,
      "outputs": []
    },
    {
      "metadata": {
        "id": "msSD4RXdWYa8",
        "colab_type": "code",
        "outputId": "2ae66a8e-2e15-4083-def9-3ad3e553dde1",
        "colab": {
          "base_uri": "https://localhost:8080/",
          "height": 107
        }
      },
      "cell_type": "code",
      "source": [
        "classifier = Sequential()\n",
        "\n",
        "#first conv layer\n",
        "classifier.add(Convolution2D(32,3,3, input_shape = (64,64,3),activation = \"relu\"))\n",
        "classifier.add(Dropout(0.5))\n",
        "classifier.add(MaxPooling2D(pool_size = (2,2)))\n",
        "\n",
        "#second conv layer\n",
        "classifier.add(Convolution2D(64,3,3, input_shape = (64,64,3),activation = \"relu\"))\n",
        "classifier.add(MaxPooling2D(pool_size = (2,2)))\n",
        "classifier.add(Dropout(0.5))"
      ],
      "execution_count": 40,
      "outputs": [
        {
          "output_type": "stream",
          "text": [
            "/usr/local/lib/python3.6/dist-packages/ipykernel_launcher.py:4: UserWarning: Update your `Conv2D` call to the Keras 2 API: `Conv2D(32, (3, 3), input_shape=(64, 64, 3..., activation=\"relu\")`\n",
            "  after removing the cwd from sys.path.\n",
            "/usr/local/lib/python3.6/dist-packages/ipykernel_launcher.py:9: UserWarning: Update your `Conv2D` call to the Keras 2 API: `Conv2D(64, (3, 3), input_shape=(64, 64, 3..., activation=\"relu\")`\n",
            "  if __name__ == '__main__':\n"
          ],
          "name": "stderr"
        }
      ]
    },
    {
      "metadata": {
        "id": "EORgFySFWYfg",
        "colab_type": "code",
        "outputId": "85b96e27-6b59-4d26-b829-634d370dbc1d",
        "colab": {
          "base_uri": "https://localhost:8080/",
          "height": 107
        }
      },
      "cell_type": "code",
      "source": [
        "classifier.add(Flatten())\n",
        "classifier.add(Dense(output_dim = 256, activation = 'relu'))\n",
        "classifier.add(Dropout(0.5))\n",
        "classifier.add(Dense(output_dim = 4, activation = 'softmax'))\n",
        "classifier.compile(optimizer = 'adam', \n",
        "                   loss = 'categorical_crossentropy', \n",
        "                   metrics = ['accuracy'])"
      ],
      "execution_count": 0,
      "outputs": [
        {
          "output_type": "stream",
          "text": [
            "/usr/local/lib/python3.6/dist-packages/ipykernel_launcher.py:2: UserWarning: Update your `Dense` call to the Keras 2 API: `Dense(activation=\"relu\", units=256)`\n",
            "  \n",
            "/usr/local/lib/python3.6/dist-packages/ipykernel_launcher.py:4: UserWarning: Update your `Dense` call to the Keras 2 API: `Dense(activation=\"softmax\", units=4)`\n",
            "  after removing the cwd from sys.path.\n"
          ],
          "name": "stderr"
        }
      ]
    },
    {
      "metadata": {
        "id": "I_ar_ixNWYjW",
        "colab_type": "code",
        "outputId": "e82bf28f-0f4f-4f29-bfcb-46a55fdf2d9a",
        "colab": {
          "base_uri": "https://localhost:8080/",
          "height": 491
        }
      },
      "cell_type": "code",
      "source": [
        "classifier.summary()"
      ],
      "execution_count": 0,
      "outputs": [
        {
          "output_type": "stream",
          "text": [
            "_________________________________________________________________\n",
            "Layer (type)                 Output Shape              Param #   \n",
            "=================================================================\n",
            "conv2d_3 (Conv2D)            (None, 62, 62, 32)        896       \n",
            "_________________________________________________________________\n",
            "dropout_4 (Dropout)          (None, 62, 62, 32)        0         \n",
            "_________________________________________________________________\n",
            "max_pooling2d_3 (MaxPooling2 (None, 31, 31, 32)        0         \n",
            "_________________________________________________________________\n",
            "conv2d_4 (Conv2D)            (None, 29, 29, 64)        18496     \n",
            "_________________________________________________________________\n",
            "max_pooling2d_4 (MaxPooling2 (None, 14, 14, 64)        0         \n",
            "_________________________________________________________________\n",
            "dropout_5 (Dropout)          (None, 14, 14, 64)        0         \n",
            "_________________________________________________________________\n",
            "flatten_3 (Flatten)          (None, 12544)             0         \n",
            "_________________________________________________________________\n",
            "dense_3 (Dense)              (None, 256)               3211520   \n",
            "_________________________________________________________________\n",
            "dropout_6 (Dropout)          (None, 256)               0         \n",
            "_________________________________________________________________\n",
            "dense_4 (Dense)              (None, 4)                 1028      \n",
            "=================================================================\n",
            "Total params: 3,231,940\n",
            "Trainable params: 3,231,940\n",
            "Non-trainable params: 0\n",
            "_________________________________________________________________\n"
          ],
          "name": "stdout"
        }
      ]
    },
    {
      "metadata": {
        "id": "K41w9VM_WYou",
        "colab_type": "code",
        "colab": {}
      },
      "cell_type": "code",
      "source": [
        "from keras.preprocessing.image import ImageDataGenerator"
      ],
      "execution_count": 0,
      "outputs": []
    },
    {
      "metadata": {
        "id": "I64Tjm0yWYsH",
        "colab_type": "code",
        "colab": {}
      },
      "cell_type": "code",
      "source": [
        "train_datagen = ImageDataGenerator(\n",
        "    rescale = 1./255,\n",
        "    shear_range=0.2,\n",
        "    zoom_range=0.2,\n",
        "    horizontal_flip = True)"
      ],
      "execution_count": 0,
      "outputs": []
    },
    {
      "metadata": {
        "id": "NCujzgJlWYnZ",
        "colab_type": "code",
        "colab": {}
      },
      "cell_type": "code",
      "source": [
        "test_datagen = ImageDataGenerator(rescale = 1./255)"
      ],
      "execution_count": 0,
      "outputs": []
    },
    {
      "metadata": {
        "id": "imNrE_xfWYib",
        "colab_type": "code",
        "outputId": "0e966b56-6c81-49cd-b471-ebcb1b916f5e",
        "colab": {
          "base_uri": "https://localhost:8080/",
          "height": 52
        }
      },
      "cell_type": "code",
      "source": [
        "training_set = train_datagen.flow_from_directory(\n",
        "    'dataset/training1',\n",
        "    target_size=(64,64),\n",
        "    batch_size=20,\n",
        "    class_mode='categorical')\n",
        "\n",
        "test_set = test_datagen.flow_from_directory(\n",
        "    'dataset/testing1',\n",
        "    target_size=(64,64),\n",
        "    batch_size=20,\n",
        "    class_mode='categorical')"
      ],
      "execution_count": 0,
      "outputs": [
        {
          "output_type": "stream",
          "text": [
            "Found 400 images belonging to 4 classes.\n",
            "Found 80 images belonging to 4 classes.\n"
          ],
          "name": "stdout"
        }
      ]
    },
    {
      "metadata": {
        "id": "XqxD5PzSWYet",
        "colab_type": "code",
        "outputId": "c6e07a4c-75db-4fbf-f54f-70bec1969d6b",
        "colab": {
          "base_uri": "https://localhost:8080/",
          "height": 896
        }
      },
      "cell_type": "code",
      "source": [
        "from IPython.display import display\n",
        "from PIL import Image\n",
        "history = classifier.fit_generator(\n",
        "    training_set,\n",
        "    steps_per_epoch = 20,\n",
        "    epochs = 25,\n",
        "    validation_data = test_set,\n",
        "    validation_steps = 4)"
      ],
      "execution_count": 0,
      "outputs": [
        {
          "output_type": "stream",
          "text": [
            "Epoch 1/25\n",
            "20/20 [==============================] - 101s 5s/step - loss: 1.3458 - acc: 0.4050 - val_loss: 1.0604 - val_acc: 0.7125\n",
            "Epoch 2/25\n",
            "20/20 [==============================] - 6s 275ms/step - loss: 0.9719 - acc: 0.5600 - val_loss: 0.9366 - val_acc: 0.6250\n",
            "Epoch 3/25\n",
            "20/20 [==============================] - 5s 274ms/step - loss: 0.8202 - acc: 0.6575 - val_loss: 0.8130 - val_acc: 0.6625\n",
            "Epoch 4/25\n",
            "20/20 [==============================] - 5s 274ms/step - loss: 0.7124 - acc: 0.7125 - val_loss: 0.8369 - val_acc: 0.6875\n",
            "Epoch 5/25\n",
            "20/20 [==============================] - 5s 275ms/step - loss: 0.6876 - acc: 0.6950 - val_loss: 0.7607 - val_acc: 0.7125\n",
            "Epoch 6/25\n",
            "20/20 [==============================] - 5s 275ms/step - loss: 0.5661 - acc: 0.7775 - val_loss: 0.6582 - val_acc: 0.7125\n",
            "Epoch 7/25\n",
            "20/20 [==============================] - 6s 278ms/step - loss: 0.5097 - acc: 0.7650 - val_loss: 0.5896 - val_acc: 0.7625\n",
            "Epoch 8/25\n",
            "20/20 [==============================] - 5s 273ms/step - loss: 0.5065 - acc: 0.7875 - val_loss: 0.5830 - val_acc: 0.8375\n",
            "Epoch 9/25\n",
            "20/20 [==============================] - 6s 276ms/step - loss: 0.5464 - acc: 0.7950 - val_loss: 0.5350 - val_acc: 0.8250\n",
            "Epoch 10/25\n",
            "20/20 [==============================] - 6s 279ms/step - loss: 0.5612 - acc: 0.7675 - val_loss: 0.7580 - val_acc: 0.6625\n",
            "Epoch 11/25\n",
            "20/20 [==============================] - 6s 280ms/step - loss: 0.4563 - acc: 0.8125 - val_loss: 0.6168 - val_acc: 0.7625\n",
            "Epoch 12/25\n",
            "20/20 [==============================] - 6s 282ms/step - loss: 0.3931 - acc: 0.8425 - val_loss: 0.7017 - val_acc: 0.7375\n",
            "Epoch 13/25\n",
            "20/20 [==============================] - 6s 277ms/step - loss: 0.3418 - acc: 0.8775 - val_loss: 0.7721 - val_acc: 0.6125\n",
            "Epoch 14/25\n",
            "20/20 [==============================] - 5s 274ms/step - loss: 0.3536 - acc: 0.8725 - val_loss: 0.6785 - val_acc: 0.7125\n",
            "Epoch 15/25\n",
            "20/20 [==============================] - 6s 280ms/step - loss: 0.3569 - acc: 0.8625 - val_loss: 0.6711 - val_acc: 0.7375\n",
            "Epoch 16/25\n",
            "20/20 [==============================] - 6s 281ms/step - loss: 0.3714 - acc: 0.8550 - val_loss: 0.6794 - val_acc: 0.7125\n",
            "Epoch 17/25\n",
            "20/20 [==============================] - 5s 274ms/step - loss: 0.3032 - acc: 0.9050 - val_loss: 0.5887 - val_acc: 0.7125\n",
            "Epoch 18/25\n",
            "20/20 [==============================] - 6s 277ms/step - loss: 0.2930 - acc: 0.8925 - val_loss: 0.7068 - val_acc: 0.6875\n",
            "Epoch 19/25\n",
            "20/20 [==============================] - 6s 280ms/step - loss: 0.2582 - acc: 0.8925 - val_loss: 0.5717 - val_acc: 0.7500\n",
            "Epoch 20/25\n",
            "20/20 [==============================] - 6s 278ms/step - loss: 0.2246 - acc: 0.9250 - val_loss: 0.6654 - val_acc: 0.6875\n",
            "Epoch 21/25\n",
            "20/20 [==============================] - 6s 277ms/step - loss: 0.2823 - acc: 0.8825 - val_loss: 0.7796 - val_acc: 0.7125\n",
            "Epoch 22/25\n",
            "20/20 [==============================] - 6s 280ms/step - loss: 0.3528 - acc: 0.8775 - val_loss: 0.5860 - val_acc: 0.7375\n",
            "Epoch 23/25\n",
            "20/20 [==============================] - 6s 278ms/step - loss: 0.2406 - acc: 0.9150 - val_loss: 0.6713 - val_acc: 0.6875\n",
            "Epoch 24/25\n",
            "20/20 [==============================] - 6s 277ms/step - loss: 0.2235 - acc: 0.9000 - val_loss: 0.5814 - val_acc: 0.7875\n",
            "Epoch 25/25\n",
            "20/20 [==============================] - 6s 278ms/step - loss: 0.2376 - acc: 0.8975 - val_loss: 0.6169 - val_acc: 0.7500\n"
          ],
          "name": "stdout"
        }
      ]
    },
    {
      "metadata": {
        "id": "fFBVSlScWYaK",
        "colab_type": "code",
        "colab": {}
      },
      "cell_type": "code",
      "source": [
        "import matplotlib.pyplot as plt\n",
        "import matplotlib.image as mpimg"
      ],
      "execution_count": 0,
      "outputs": []
    },
    {
      "metadata": {
        "id": "kCYH2OfEWYVZ",
        "colab_type": "code",
        "outputId": "6e5111b9-4725-468a-a930-72826a38d4c3",
        "colab": {
          "base_uri": "https://localhost:8080/",
          "height": 724
        }
      },
      "cell_type": "code",
      "source": [
        "# Retrieve a list of accuracy results on training and test data\n",
        "# sets for each training epoch\n",
        "acc = history.history['acc']\n",
        "val_acc = history.history['val_acc']\n",
        "\n",
        "# Retrieve a list of list results on training and test data\n",
        "# sets for each training epoch\n",
        "loss = history.history['loss']\n",
        "val_loss = history.history['val_loss']\n",
        "\n",
        "# Get number of epochs\n",
        "epochs = range(len(acc))\n",
        "\n",
        "# Plot training and validation accuracy per epoch\n",
        "plt.plot(epochs, acc)\n",
        "plt.plot(epochs, val_acc)\n",
        "plt.title('Training and validation accuracy')\n",
        "\n",
        "plt.figure()\n",
        "\n",
        "# Plot training and validation loss per epoch\n",
        "plt.plot(epochs, loss)\n",
        "plt.plot(epochs, val_loss)\n",
        "plt.title('Training and validation loss')"
      ],
      "execution_count": 0,
      "outputs": [
        {
          "output_type": "execute_result",
          "data": {
            "text/plain": [
              "Text(0.5, 1.0, 'Training and validation loss')"
            ]
          },
          "metadata": {
            "tags": []
          },
          "execution_count": 30
        },
        {
          "output_type": "display_data",
          "data": {
            "image/png": "[encoded data removed]",
            "text/plain": [
              "<Figure size 576x396 with 1 Axes>"
            ]
          },
          "metadata": {
            "tags": []
          }
        },
        {
          "output_type": "display_data",
          "data": {
            "image/png": "[encoded data removed]",
            "text/plain": [
              "<Figure size 576x396 with 1 Axes>"
            ]
          },
          "metadata": {
            "tags": []
          }
        }
      ]
    },
    {
      "metadata": {
        "id": "Fbx_HDd2Zvq4",
        "colab_type": "code",
        "outputId": "5752afec-5d15-4fac-dd71-4b03a1a13ddc",
        "colab": {
          "base_uri": "https://localhost:8080/",
          "height": 34
        }
      },
      "cell_type": "code",
      "source": [
        "import numpy as np\n",
        "from keras.preprocessing import image\n",
        "test_image = image.load_img('corn_grayleafcheck.jpg',target_size = (64,64))\n",
        "test_image = image.img_to_array(test_image)\n",
        "test_image = np.expand_dims(test_image,axis = 0)\n",
        "result = classifier.predict(test_image)\n",
        "training_set.class_indices\n",
        "if result [0][0] == 1:\n",
        "    prediction = 'Corn_common_rust'\n",
        "elif result [0][1] == 1:\n",
        "    prediction = 'Corn_gray_leaf_spot'\n",
        "elif result [0][1] == 1:\n",
        "    prediction = 'Corn_healthy'    \n",
        "else:\n",
        "    prediction = 'Corn_northern_leaf_blight'\n",
        "print(prediction)"
      ],
      "execution_count": 0,
      "outputs": [
        {
          "output_type": "stream",
          "text": [
            "Corn_gray_leaf_spot\n"
          ],
          "name": "stdout"
        }
      ]
    },
    {
      "metadata": {
        "id": "fHGVwRZOZvyh",
        "colab_type": "code",
        "outputId": "81a6ac4d-0a23-40b3-c493-2df73e0a0cd9",
        "colab": {
          "base_uri": "https://localhost:8080/",
          "height": 70
        }
      },
      "cell_type": "code",
      "source": [
        "!ls\n"
      ],
      "execution_count": 0,
      "outputs": [
        {
          "output_type": "stream",
          "text": [
            "apple_rotcheck.jpg   cnncode.ipynb\t       corn_healthycheck.jpg\n",
            "apple_scabcheck.jpg  corn_commonrustcheck.jpg  corn_northenleafblight.jpg\n",
            "cnn1.ipynb\t     corn_grayleafcheck.jpg    dataset\n"
          ],
          "name": "stdout"
        }
      ]
    },
    {
      "metadata": {
        "id": "OX_PMRIWZv50",
        "colab_type": "code",
        "colab": {}
      },
      "cell_type": "code",
      "source": [
        ""
      ],
      "execution_count": 0,
      "outputs": []
    }
  ]
}